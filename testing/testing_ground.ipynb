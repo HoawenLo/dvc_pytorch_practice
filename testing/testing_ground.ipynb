{
 "cells": [
  {
   "cell_type": "code",
   "execution_count": 3,
   "id": "3a225890",
   "metadata": {},
   "outputs": [],
   "source": [
    "import os\n",
    "import pickle"
   ]
  },
  {
   "cell_type": "code",
   "execution_count": 7,
   "id": "39f6c58f",
   "metadata": {},
   "outputs": [
    {
     "data": {
      "text/plain": [
       "{'train_loss_val': [3.6765787831804957,\n",
       "  2.9388803287110723,\n",
       "  2.5509363318282827],\n",
       " 'train_acc_val': [0.22876, 0.31738, 0.4055],\n",
       " 'val_loss_vals': [3.178628017346318, 2.8424200029038014, 2.5585386749273673],\n",
       " 'val_acc_vals': [0.2203, 0.2886, 0.3548]}"
      ]
     },
     "execution_count": 7,
     "metadata": {},
     "output_type": "execute_result"
    }
   ],
   "source": [
    "with open(\"../results/metric_data.pkl\", \"rb\") as file:\n",
    "    results_file = pickle.load(file)\n",
    "    \n",
    "results_file"
   ]
  }
 ],
 "metadata": {
  "kernelspec": {
   "display_name": "Python 3 (ipykernel)",
   "language": "python",
   "name": "python3"
  },
  "language_info": {
   "codemirror_mode": {
    "name": "ipython",
    "version": 3
   },
   "file_extension": ".py",
   "mimetype": "text/x-python",
   "name": "python",
   "nbconvert_exporter": "python",
   "pygments_lexer": "ipython3",
   "version": "3.10.12"
  }
 },
 "nbformat": 4,
 "nbformat_minor": 5
}
